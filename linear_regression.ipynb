{
 "cells": [
  {
   "cell_type": "code",
   "execution_count": 1,
   "metadata": {},
   "outputs": [],
   "source": [
    "import random\n",
    "import vaex\n",
    "import matplotlib\n",
    "import numpy as np\n",
    "\n",
    "%matplotlib inline\n",
    "\n",
    "nb_inds = 10000\n",
    "weight = -0.01\n",
    "biais = 12031\n",
    "\n",
    "with open(\"Data/datag.csv\", \"w\") as out_file:\n",
    "    out_file.write(\"km,price\\n\")\n",
    "    rand_num = 0\n",
    "    rand_y = 0\n",
    "    for i in range(nb_inds):\n",
    "        rand_num = random.randrange(1, 250000)\n",
    "        rand_y = rand_num * weight + biais - (random.randrange(1, 250000 * 0.1)) + (random.randrange(1, 250000 * 0.2))\n",
    "        out_file.write(\"{},{}\\n\".format(rand_num, rand_y))"
   ]
  },
  {
   "cell_type": "code",
   "execution_count": 2,
   "metadata": {},
   "outputs": [],
   "source": [
    "df = vaex.open(\"Data/data.csv\")"
   ]
  },
  {
   "cell_type": "code",
   "execution_count": 3,
   "metadata": {
    "scrolled": true
   },
   "outputs": [
    {
     "data": {
      "text/plain": [
       "(array([240000., 139800., 150500., 185530., 176000., 114800., 166800.,\n",
       "         89000., 144500.,  84000.,  82029.,  63060.,  74000.,  97500.,\n",
       "         67000.,  76025.,  48235.,  93000.,  60949.,  65674.,  54000.,\n",
       "         68500.,  22899.,  61789.]),\n",
       " array([3650., 3800., 4400., 4450., 5250., 5350., 5800., 5990., 5999.,\n",
       "        6200., 6390., 6390., 6600., 6800., 6800., 6900., 6900., 6990.,\n",
       "        7490., 7555., 7990., 7990., 7990., 8290.]))"
      ]
     },
     "execution_count": 3,
     "metadata": {},
     "output_type": "execute_result"
    }
   ],
   "source": [
    "X = np.array(df[['km']]).flatten()\n",
    "y = np.array(df[['price']]).flatten()\n",
    "X, y"
   ]
  },
  {
   "cell_type": "code",
   "execution_count": 4,
   "metadata": {
    "scrolled": true
   },
   "outputs": [
    {
     "data": {
      "text/plain": [
       "<matplotlib.collections.PathCollection at 0x1234c7780>"
      ]
     },
     "execution_count": 4,
     "metadata": {},
     "output_type": "execute_result"
    },
    {
     "data": {
      "image/png": "[encoded data removed]",
      "text/plain": [
       "<Figure size 432x288 with 1 Axes>"
      ]
     },
     "metadata": {
      "needs_background": "light"
     },
     "output_type": "display_data"
    }
   ],
   "source": [
    "import matplotlib.pyplot as plt\n",
    "\n",
    "plt.scatter(X, y)"
   ]
  },
  {
   "cell_type": "code",
   "execution_count": 5,
   "metadata": {},
   "outputs": [
    {
     "data": {
      "text/plain": [
       "array([1.        , 0.53846366, 0.58774948, 0.74910295, 0.70520633,\n",
       "       0.42330989, 0.66282974, 0.30447119, 0.56011257, 0.28144044,\n",
       "       0.27236171, 0.18498763, 0.23537893, 0.34362347, 0.20313587,\n",
       "       0.24470638, 0.11670144, 0.3228958 , 0.17526405, 0.19702811,\n",
       "       0.1432559 , 0.21004509, 0.        , 0.17913321])"
      ]
     },
     "execution_count": 5,
     "metadata": {},
     "output_type": "execute_result"
    }
   ],
   "source": [
    "# def featureNormalize(X):\n",
    "#     mean = X.mean(axis=0)\n",
    "#     stdev = X.std(axis=0)\n",
    "#     X = (X - mean)/stdev\n",
    "#     return X, mean, stdev\n",
    "\n",
    "def featureNormalize(X):\n",
    "    minn = X.min(axis=0)\n",
    "    maxx = X.max(axis=0)\n",
    "    X = (X - minn)/ (maxx - minn)\n",
    "    return X, minn, maxx\n",
    "X, minn, maxx = featureNormalize(X)\n",
    "X\n",
    "# y, meany, stdevy = featureNormalize(y)"
   ]
  },
  {
   "cell_type": "code",
   "execution_count": 6,
   "metadata": {},
   "outputs": [],
   "source": [
    "# with open(\"Data/mean_stdev.csv\", \"w\") as mean_file:\n",
    "#     mean_file.write(\"mean,stdev\\n\")\n",
    "#     mean_file.write(\"{},{}\\n\".format(mean, stdev))\n",
    "# X, mean, stdev"
   ]
  },
  {
   "cell_type": "code",
   "execution_count": 7,
   "metadata": {},
   "outputs": [],
   "source": [
    "def predict(X, theta):\n",
    "    return(np.dot(X, theta))\n",
    "X = np.c_[np.ones(X.shape[0]), X]"
   ]
  },
  {
   "cell_type": "code",
   "execution_count": 8,
   "metadata": {},
   "outputs": [],
   "source": [
    "def cost(X, y, theta, lbda=0.0, regularization=\"L2\"):\n",
    "    reg = 0\n",
    "    if regularization == \"L1\":\n",
    "        reg = lbda * np.sum(np.absolute(theta))\n",
    "    else:\n",
    "        reg = lbda * np.dot(theta, np.transpose(theta))\n",
    "    return ((1/(2 * X.shape[0])) * (np.sum((predict(X, theta) - y)**2)) + reg)"
   ]
  },
  {
   "cell_type": "code",
   "execution_count": 9,
   "metadata": {},
   "outputs": [],
   "source": [
    "def get_regularization(theta, lbda, size, regularization):\n",
    "    if regularization == \"L1\":\n",
    "        reg = (lbda / (2 * size)) * np.sum(np.absolute(theta[1:]))\n",
    "    elif regularization == \"L2\":\n",
    "        reg = (lbda / (2 * size)) * np.sum(np.square(theta[1:]))\n",
    "    return (reg)\n",
    "\n",
    "def get_regularization_derived(theta, lbda, size, regularization):\n",
    "    if regularization == \"L1\":\n",
    "        reg = (lbda / (2 * size)) * (theta / np.absolute(theta))\n",
    "    elif regularization == \"L2\":\n",
    "        reg = (lbda / size) * theta\n",
    "    reg[0] = 0\n",
    "    return (reg)    \n",
    "        \n",
    "def mini_batch(X, y, batch_size):\n",
    "    indices = np.arange(X.shape[0])\n",
    "    np.random.shuffle(indices)\n",
    "    for start_idx in range(0, X.shape[0] - batch_size + 1, batch_size):\n",
    "        idx_batch = indices[start_idx:start_idx + batch_size]\n",
    "        yield X[idx_batch], y[idx_batch]\n",
    "\n",
    "def exponentionnal_decay(alpha_0, epochs, decay_rate):\n",
    "    return(alpha_0 * np.exp(-decay_rate * epochs))\n",
    "\n",
    "def gradient_descent(X, y, theta, \n",
    "                     alpha=0.01,\n",
    "                     num_iters=1500,\n",
    "                     batch_size=-1,\n",
    "                     decay_rate=0.0,\n",
    "                     tol=0.0001,\n",
    "                     lbda=0.001,\n",
    "                     regularization=\"L2\"):\n",
    "    m = X.shape[0]\n",
    "    J_history = []\n",
    "    alpha_0 = alpha\n",
    "    b_size = m if (batch_size <= 0 or batch_size > m) else batch_size\n",
    "    decay_rate = 0.0 if b_size == m else decay_rate\n",
    "    prev_cost = 0\n",
    "    \n",
    "    for i in range(num_iters):\n",
    "        \n",
    "        # regularization\n",
    "        reg = get_regularization_derived(theta, lbda, b_size, regularization)\n",
    "\n",
    "        for batch in mini_batch(X, y, b_size):\n",
    "            X_tmp, y_tmp = batch\n",
    "            diff = np.dot((predict(X_tmp,theta) - y_tmp), X_tmp)\n",
    "            theta = theta - alpha * (diff / m + reg)\n",
    "            \n",
    "            # tol\n",
    "            curr_cost = cost(X_tmp, y_tmp, theta, lbda=lbda, regularization=regularization)\n",
    "            if abs(prev_cost - curr_cost) < tol:\n",
    "                print(\"training finished in {} iterations\".format(i))\n",
    "                return theta, J_history\n",
    "            prev_cost = curr_cost\n",
    "            J_history.append(curr_cost)        \n",
    "        \n",
    "        # learning rate decay\n",
    "        alpha = exponentionnal_decay(alpha_0, i, decay_rate)\n",
    "        \n",
    "\n",
    "    return theta, J_history"
   ]
  },
  {
   "cell_type": "code",
   "execution_count": 10,
   "metadata": {},
   "outputs": [
    {
     "data": {
      "text/plain": [
       "(24, 2)"
      ]
     },
     "execution_count": 10,
     "metadata": {},
     "output_type": "execute_result"
    }
   ],
   "source": [
    "X.shape"
   ]
  },
  {
   "cell_type": "code",
   "execution_count": 16,
   "metadata": {},
   "outputs": [
    {
     "name": "stdout",
     "output_type": "stream",
     "text": [
      "[ 7736.5318036  -3940.04774811]\n"
     ]
    },
    {
     "data": {
      "image/png": "[encoded data removed]",
      "text/plain": [
       "<Figure size 432x288 with 1 Axes>"
      ]
     },
     "metadata": {
      "needs_background": "light"
     },
     "output_type": "display_data"
    }
   ],
   "source": [
    "theta = np.zeros(2)\n",
    "theta, J_history = gradient_descent(X, y, theta,\n",
    "                    alpha=0.01,\n",
    "                    num_iters=15000,\n",
    "                    decay_rate=0.0001, lbda=0.0001, batch_size=14)\n",
    "\n",
    "print(theta)\n",
    "fit = plt.figure()\n",
    "ax = plt.axes()\n",
    "ax.plot(J_history)\n",
    "J_history[-1], theta\n",
    "plt.savefig('cost_history.png') "
   ]
  },
  {
   "cell_type": "code",
   "execution_count": 17,
   "metadata": {
    "scrolled": false
   },
   "outputs": [
    {
     "name": "stdout",
     "output_type": "stream",
     "text": [
      "dd\n"
     ]
    },
    {
     "data": {
      "image/png": "[encoded data removed]",
      "text/plain": [
       "<Figure size 432x288 with 1 Axes>"
      ]
     },
     "metadata": {
      "needs_background": "light"
     },
     "output_type": "display_data"
    }
   ],
   "source": [
    "def abline(slope, intercept):\n",
    "    \"\"\"Plot a line from slope and intercept\"\"\"\n",
    "    axes = plt.gca()\n",
    "    x_vals = np.array(axes.get_xlim())\n",
    "    y_vals = intercept + slope * x_vals\n",
    "    plt.plot(x_vals, y_vals, '--')\n",
    "\n",
    "def plot():\n",
    "    X = np.array(df[['km']]).flatten()\n",
    "    y = np.array(df[['price']]).flatten()\n",
    "    X, minn, maxx = featureNormalize(X)\n",
    "#     ys, meany, stdevy = featureNormalize(y)\n",
    "    X = (X * (maxx - minn)) + minn\n",
    "    theta[0] -= minn * (theta[1]) / (maxx - minn)\n",
    "    theta[1] /= (maxx - minn)\n",
    "    print(\"dd\")\n",
    "#     print(predict(100, theta))\n",
    "    plt.scatter(X, y)\n",
    "    abline(theta[1], theta[0])\n",
    "    plt.savefig('visu.png')    \n",
    "plot()"
   ]
  },
  {
   "cell_type": "code",
   "execution_count": null,
   "metadata": {},
   "outputs": [],
   "source": []
  }
 ],
 "metadata": {
  "kernelspec": {
   "display_name": "Python 3",
   "language": "python",
   "name": "python3"
  },
  "language_info": {
   "codemirror_mode": {
    "name": "ipython",
    "version": 3
   },
   "file_extension": ".py",
   "mimetype": "text/x-python",
   "name": "python",
   "nbconvert_exporter": "python",
   "pygments_lexer": "ipython3",
   "version": "3.7.3"
  }
 },
 "nbformat": 4,
 "nbformat_minor": 2
}
