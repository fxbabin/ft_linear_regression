{
 "cells": [
  {
   "cell_type": "code",
   "execution_count": 1,
   "metadata": {},
   "outputs": [],
   "source": [
    "import random\n",
    "import vaex\n",
    "import matplotlib\n",
    "import numpy as np\n",
    "\n",
    "%matplotlib inline\n",
    "\n",
    "nb_inds = 100000\n",
    "weight = -0.01\n",
    "biais = 12031\n",
    "\n",
    "with open(\"Data/datag.csv\", \"w\") as out_file:\n",
    "    out_file.write(\"km,price\\n\")\n",
    "    rand_num = 0\n",
    "    rand_y = 0\n",
    "    for i in range(nb_inds):\n",
    "        rand_num = random.randrange(1, 250000)\n",
    "        rand_y = rand_num * weight + biais #- (random.randrange(1, 250000 * 0.1)) + (random.randrange(1, 250000 * 0.2))\n",
    "        out_file.write(\"{},{}\\n\".format(rand_num, rand_y))"
   ]
  },
  {
   "cell_type": "code",
   "execution_count": 2,
   "metadata": {},
   "outputs": [],
   "source": [
    "df = vaex.open(\"Data/data.csv\")"
   ]
  },
  {
   "cell_type": "code",
   "execution_count": 3,
   "metadata": {},
   "outputs": [
    {
     "data": {
      "text/plain": [
       "(array([240000., 139800., 150500., 185530., 176000., 114800., 166800.,\n",
       "         89000., 144500.,  84000.,  82029.,  63060.,  74000.,  97500.,\n",
       "         67000.,  76025.,  48235.,  93000.,  60949.,  65674.,  54000.,\n",
       "         68500.,  22899.,  61789.]),\n",
       " array([3650., 3800., 4400., 4450., 5250., 5350., 5800., 5990., 5999.,\n",
       "        6200., 6390., 6390., 6600., 6800., 6800., 6900., 6900., 6990.,\n",
       "        7490., 7555., 7990., 7990., 7990., 8290.]))"
      ]
     },
     "execution_count": 3,
     "metadata": {},
     "output_type": "execute_result"
    }
   ],
   "source": [
    "X = np.array(df[['km']]).flatten()\n",
    "y = np.array(df[['price']]).flatten()\n",
    "X, y"
   ]
  },
  {
   "cell_type": "code",
   "execution_count": 4,
   "metadata": {
    "scrolled": true
   },
   "outputs": [
    {
     "data": {
      "text/plain": [
       "<matplotlib.collections.PathCollection at 0x7f79708cbac8>"
      ]
     },
     "execution_count": 4,
     "metadata": {},
     "output_type": "execute_result"
    },
    {
     "data": {
      "image/png": "[encoded data removed]",
      "text/plain": [
       "<Figure size 432x288 with 1 Axes>"
      ]
     },
     "metadata": {
      "needs_background": "light"
     },
     "output_type": "display_data"
    }
   ],
   "source": [
    "import matplotlib.pyplot as plt\n",
    "\n",
    "plt.scatter(X, y)"
   ]
  },
  {
   "cell_type": "code",
   "execution_count": 5,
   "metadata": {},
   "outputs": [],
   "source": [
    "def featureNormalize(X):\n",
    "    mean = X.mean(axis=0)\n",
    "    stdev = X.std(axis=0)\n",
    "    X = (X - mean)/stdev\n",
    "    return X, mean, stdev\n",
    "X, mean, stdev = featureNormalize(X)"
   ]
  },
  {
   "cell_type": "code",
   "execution_count": 6,
   "metadata": {},
   "outputs": [
    {
     "data": {
      "text/plain": [
       "(array([ 2.69433217,  0.75116081,  0.95866514,  1.6379994 ,  1.4531848 ,\n",
       "         0.26633762,  1.27476986, -0.23399991,  0.84230757, -0.33096455,\n",
       "        -0.36918801, -0.73705246, -0.52489383, -0.06916003, -0.66064432,\n",
       "        -0.48562315, -1.02455261, -0.1564282 , -0.77799093, -0.68635935,\n",
       "        -0.91275238, -0.63155493, -1.51589183, -0.76170087]),\n",
       " 101066.25,\n",
       " 51565.1899106445)"
      ]
     },
     "execution_count": 6,
     "metadata": {},
     "output_type": "execute_result"
    }
   ],
   "source": [
    "with open(\"Data/mean_stdev.csv\", \"w\") as mean_file:\n",
    "    mean_file.write(\"mean,stdev\\n\")\n",
    "    mean_file.write(\"{},{}\\n\".format(mean, stdev))\n",
    "X, mean, stdev"
   ]
  },
  {
   "cell_type": "code",
   "execution_count": 9,
   "metadata": {},
   "outputs": [],
   "source": [
    "def predict(X, theta):\n",
    "    return(np.dot(X, theta))\n",
    "X = np.c_[np.ones(X.shape[0]), X]"
   ]
  },
  {
   "cell_type": "code",
   "execution_count": 10,
   "metadata": {},
   "outputs": [],
   "source": [
    "def cost(X, y, theta, lbda=0.0, regularization=\"L2\"):\n",
    "    reg = 0\n",
    "    if regularization == \"L1\":\n",
    "        reg = lbda * np.sum(np.absolute(theta))\n",
    "    else:\n",
    "        reg = lbda * np.dot(theta, np.transpose(theta))\n",
    "    return ((1/(2 * X.shape[0])) * (np.sum((predict(X, theta) - y)**2)) + reg)"
   ]
  },
  {
   "cell_type": "code",
   "execution_count": 11,
   "metadata": {},
   "outputs": [],
   "source": [
    "def get_regularization(theta, lbda, size, regularization):\n",
    "    if regularization == \"L1\":\n",
    "        reg = (lbda / (2 * size)) * np.sum(np.absolute(theta[1:]))\n",
    "    elif regularization == \"L2\":\n",
    "        reg = (lbda / (2 * size)) * np.sum(np.square(theta[1:]))\n",
    "    return (reg)\n",
    "\n",
    "def get_regularization_derived(theta, lbda, size, regularization):\n",
    "    if regularization == \"L1\":\n",
    "        reg = (lbda / (2 * size)) * (theta / np.absolute(theta))\n",
    "    elif regularization == \"L2\":\n",
    "        reg = (lbda / size) * theta\n",
    "    reg[0] = 0\n",
    "    return (reg)\n",
    "\n",
    "def batch_generator(X, y, batch_size):\n",
    "    np.random.shuffle(X)\n",
    "    size = X.shape[0]\n",
    "    b_size = 0\n",
    "    batches_X = []\n",
    "    batches_y = []\n",
    "    while (b_size + batch_size) < size:\n",
    "        batches_X.append(X[b_size:(b_size + batch_size)])\n",
    "        batches_y.append(y[b_size:(b_size + batch_size)])\n",
    "        b_size += batch_size\n",
    "    batches_X.append(X[b_size:size])\n",
    "    batches_y.append(y[b_size:size])\n",
    "    nb_batches = size // batch_size\n",
    "    while True:\n",
    "        rand_nb = random.randint(0, nb_batches - 1)\n",
    "        yield batches_X[rand_nb], batches_y[rand_nb]\n",
    "\n",
    "def exponentionnal_decay(alpha_0, epochs, decay_rate):\n",
    "    return(alpha_0 * np.exp(-decay_rate * epochs))\n",
    "\n",
    "def gradient_descent(X, y, theta, \n",
    "                     alpha=0.01,\n",
    "                     num_iters=1500,\n",
    "                     batch_size=-1,\n",
    "                     decay_rate=0.0,\n",
    "                     tol=0.001,\n",
    "                     lbda=0.001,\n",
    "                     regularization=\"L2\"):\n",
    "    m = X.shape[0]\n",
    "    J_history = []\n",
    "    alpha_0 = alpha\n",
    "    b_size = m if (batch_size <= 0 or batch_size > m) else batch_size\n",
    "    decay_rate = 0.0 if b_size == m else decay_rate\n",
    "    batch_gen = batch_generator(X, y, b_size)\n",
    "    prev_cost = 1e9\n",
    "    \n",
    "    for i in range(num_iters):\n",
    "        \n",
    "        # mini_batch handler\n",
    "        X_tmp, y_tmp = next(batch_gen) if (batch_size > 0 and b_size != m) else (X, y)\n",
    "        \n",
    "        # regularization\n",
    "        reg = get_regularization_derived(theta, lbda, b_size, regularization)\n",
    "\n",
    "        # theta update\n",
    "        diff = np.dot((predict(X,theta) - y), X)\n",
    "        theta = theta - alpha * (diff / m + reg)\n",
    "        \n",
    "        # learning rate decay\n",
    "        alpha = exponentionnal_decay(alpha_0, i, decay_rate)\n",
    "        \n",
    "        # tol\n",
    "        curr_cost = cost(X_tmp, y_tmp, theta, lbda=lbda, regularization=regularization)\n",
    "#         if prev_cost - curr_cost < tol:\n",
    "#             print(\"training finished in {} iterations\".format(i))\n",
    "#             return theta, J_history\n",
    "        prev_cost = curr_cost\n",
    "        \n",
    "        J_history.append(curr_cost)\n",
    "    return theta, J_history"
   ]
  },
  {
   "cell_type": "code",
   "execution_count": 12,
   "metadata": {},
   "outputs": [
    {
     "data": {
      "text/plain": [
       "(24, 2)"
      ]
     },
     "execution_count": 12,
     "metadata": {},
     "output_type": "execute_result"
    }
   ],
   "source": [
    "X.shape"
   ]
  },
  {
   "cell_type": "code",
   "execution_count": 21,
   "metadata": {},
   "outputs": [
    {
     "data": {
      "text/plain": [
       "array([5483.49636208,  100.38037783])"
      ]
     },
     "execution_count": 21,
     "metadata": {},
     "output_type": "execute_result"
    }
   ],
   "source": [
    "theta = np.zeros(2)\n",
    "theta, J_history = gradient_descent(X, y, theta,\n",
    "                    alpha=0.01,\n",
    "                    num_iters=200,\n",
    "                    decay_rate=0.000, tol=-1000, batch_size=10)\n",
    "theta"
   ]
  },
  {
   "cell_type": "code",
   "execution_count": 22,
   "metadata": {},
   "outputs": [
    {
     "data": {
      "text/plain": [
       "1026086.5639814944"
      ]
     },
     "execution_count": 22,
     "metadata": {},
     "output_type": "execute_result"
    },
    {
     "data": {
      "image/png": "[encoded data removed]",
      "text/plain": [
       "<Figure size 432x288 with 1 Axes>"
      ]
     },
     "metadata": {
      "needs_background": "light"
     },
     "output_type": "display_data"
    }
   ],
   "source": [
    "fit = plt.figure()\n",
    "ax = plt.axes()\n",
    "ax.plot(J_history)\n",
    "J_history[-1]"
   ]
  },
  {
   "cell_type": "code",
   "execution_count": null,
   "metadata": {},
   "outputs": [],
   "source": []
  }
 ],
 "metadata": {
  "kernelspec": {
   "display_name": "Python 3",
   "language": "python",
   "name": "python3"
  },
  "language_info": {
   "codemirror_mode": {
    "name": "ipython",
    "version": 3
   },
   "file_extension": ".py",
   "mimetype": "text/x-python",
   "name": "python",
   "nbconvert_exporter": "python",
   "pygments_lexer": "ipython3",
   "version": "3.7.3"
  }
 },
 "nbformat": 4,
 "nbformat_minor": 2
}
